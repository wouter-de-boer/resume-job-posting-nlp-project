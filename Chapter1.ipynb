{
 "cells": [
  {
   "cell_type": "code",
   "execution_count": 1,
   "metadata": {},
   "outputs": [],
   "source": [
    "import os\n",
    "import pandas as pd\n",
    "from bs4 import BeautifulSoup as bs"
   ]
  },
  {
   "cell_type": "code",
   "execution_count": 6,
   "metadata": {},
   "outputs": [],
   "source": [
    "data_dir = os.path.join(os.curdir, \"data\", \"html_job_postings\")\n",
    "rows = []\n",
    "for f in os.listdir(data_dir):\n",
    "    file_path = os.path.join(os.curdir, \"data\", \"html_job_postings\", f)\n",
    "    soup = bs(open(file_path))\n",
    "    title = soup.find(\"title\").text\n",
    "    h1 = soup.find(\"h1\")\n",
    "    body = soup.find(\"body\").text\n",
    "    if(hasattr(h1,\"text\")):\n",
    "        h1 = h1.text\n",
    "    rows.append([f, title, h1, body])\n",
    "    "
   ]
  },
  {
   "cell_type": "code",
   "execution_count": 23,
   "metadata": {
    "scrolled": false
   },
   "outputs": [
    {
     "data": {
      "text/html": [
       "<div>\n",
       "<style scoped>\n",
       "    .dataframe tbody tr th:only-of-type {\n",
       "        vertical-align: middle;\n",
       "    }\n",
       "\n",
       "    .dataframe tbody tr th {\n",
       "        vertical-align: top;\n",
       "    }\n",
       "\n",
       "    .dataframe thead th {\n",
       "        text-align: right;\n",
       "    }\n",
       "</style>\n",
       "<table border=\"1\" class=\"dataframe\">\n",
       "  <thead>\n",
       "    <tr style=\"text-align: right;\">\n",
       "      <th></th>\n",
       "      <th>file</th>\n",
       "      <th>title</th>\n",
       "      <th>h1</th>\n",
       "      <th>body</th>\n",
       "    </tr>\n",
       "  </thead>\n",
       "  <tbody>\n",
       "    <tr>\n",
       "      <th>0</th>\n",
       "      <td>1e92960a19ffdd34_fccid.html</td>\n",
       "      <td>Quantitative Analyst - Boston, MA 02116</td>\n",
       "      <td>None</td>\n",
       "      <td>Quantitative Analyst - Boston, MA 02116\\nQuant...</td>\n",
       "    </tr>\n",
       "    <tr>\n",
       "      <th>1</th>\n",
       "      <td>3157fcef3ee474da_fccid.html</td>\n",
       "      <td>Data Scientist - Mountain View, CA</td>\n",
       "      <td>None</td>\n",
       "      <td>Data Scientist - Mountain View, CA\\nGroundTrut...</td>\n",
       "    </tr>\n",
       "    <tr>\n",
       "      <th>2</th>\n",
       "      <td>b423ca22a6e2c10f_fccid.html</td>\n",
       "      <td>Data Scientist - Seattle, WA</td>\n",
       "      <td>None</td>\n",
       "      <td>Data Scientist - Seattle, WA\\nA Bachelor or Ma...</td>\n",
       "    </tr>\n",
       "    <tr>\n",
       "      <th>3</th>\n",
       "      <td>ea487254a487beb5_fccid.html</td>\n",
       "      <td>Senior Natural Language Processing (NLP) Engin...</td>\n",
       "      <td>Senior Natural Language Processing (NLP) Engineer</td>\n",
       "      <td>Senior Natural Language Processing (NLP) Engin...</td>\n",
       "    </tr>\n",
       "    <tr>\n",
       "      <th>4</th>\n",
       "      <td>cb8a5bce330854e9_fccid.html</td>\n",
       "      <td>FLEXO FOLDER GLUER OPER - McClellan, CA - McCl...</td>\n",
       "      <td>None</td>\n",
       "      <td>FLEXO FOLDER GLUER OPER - McClellan, CA - McCl...</td>\n",
       "    </tr>\n",
       "    <tr>\n",
       "      <th>...</th>\n",
       "      <td>...</td>\n",
       "      <td>...</td>\n",
       "      <td>...</td>\n",
       "      <td>...</td>\n",
       "    </tr>\n",
       "    <tr>\n",
       "      <th>1332</th>\n",
       "      <td>af6a31da7a74b6ac_fccid.html</td>\n",
       "      <td>Data Scientist - Birmingham, AL 35233</td>\n",
       "      <td>None</td>\n",
       "      <td>Data Scientist - Birmingham, AL 35233\\nSUMMARY...</td>\n",
       "    </tr>\n",
       "    <tr>\n",
       "      <th>1333</th>\n",
       "      <td>ad12f415dc3e5e8b_fccid.html</td>\n",
       "      <td>Senior Data Scientist - Tempe, AZ</td>\n",
       "      <td>None</td>\n",
       "      <td>Senior Data Scientist - Tempe, AZ\\nCircle K is...</td>\n",
       "    </tr>\n",
       "    <tr>\n",
       "      <th>1334</th>\n",
       "      <td>5141331158ad3ba2_fccid.html</td>\n",
       "      <td>New College Grad - Cybersecurity (Masters Degr...</td>\n",
       "      <td>None</td>\n",
       "      <td>New College Grad - Cybersecurity (Masters Degr...</td>\n",
       "    </tr>\n",
       "    <tr>\n",
       "      <th>1335</th>\n",
       "      <td>abc816859ac7d358_fccid.html</td>\n",
       "      <td>Decision Science Manager, Media Mix Modeling -...</td>\n",
       "      <td>None</td>\n",
       "      <td>Decision Science Manager, Media Mix Modeling -...</td>\n",
       "    </tr>\n",
       "    <tr>\n",
       "      <th>1336</th>\n",
       "      <td>b04fcd896a54cac4_fccid.html</td>\n",
       "      <td>Data Scientist - Bellevue, WA</td>\n",
       "      <td>None</td>\n",
       "      <td>Data Scientist - Bellevue, WA\\nExperienced in ...</td>\n",
       "    </tr>\n",
       "  </tbody>\n",
       "</table>\n",
       "<p>1337 rows × 4 columns</p>\n",
       "</div>"
      ],
      "text/plain": [
       "                             file  \\\n",
       "0     1e92960a19ffdd34_fccid.html   \n",
       "1     3157fcef3ee474da_fccid.html   \n",
       "2     b423ca22a6e2c10f_fccid.html   \n",
       "3     ea487254a487beb5_fccid.html   \n",
       "4     cb8a5bce330854e9_fccid.html   \n",
       "...                           ...   \n",
       "1332  af6a31da7a74b6ac_fccid.html   \n",
       "1333  ad12f415dc3e5e8b_fccid.html   \n",
       "1334  5141331158ad3ba2_fccid.html   \n",
       "1335  abc816859ac7d358_fccid.html   \n",
       "1336  b04fcd896a54cac4_fccid.html   \n",
       "\n",
       "                                                  title  \\\n",
       "0               Quantitative Analyst - Boston, MA 02116   \n",
       "1                    Data Scientist - Mountain View, CA   \n",
       "2                          Data Scientist - Seattle, WA   \n",
       "3     Senior Natural Language Processing (NLP) Engin...   \n",
       "4     FLEXO FOLDER GLUER OPER - McClellan, CA - McCl...   \n",
       "...                                                 ...   \n",
       "1332              Data Scientist - Birmingham, AL 35233   \n",
       "1333                  Senior Data Scientist - Tempe, AZ   \n",
       "1334  New College Grad - Cybersecurity (Masters Degr...   \n",
       "1335  Decision Science Manager, Media Mix Modeling -...   \n",
       "1336                      Data Scientist - Bellevue, WA   \n",
       "\n",
       "                                                     h1  \\\n",
       "0                                                  None   \n",
       "1                                                  None   \n",
       "2                                                  None   \n",
       "3     Senior Natural Language Processing (NLP) Engineer   \n",
       "4                                                  None   \n",
       "...                                                 ...   \n",
       "1332                                               None   \n",
       "1333                                               None   \n",
       "1334                                               None   \n",
       "1335                                               None   \n",
       "1336                                               None   \n",
       "\n",
       "                                                   body  \n",
       "0     Quantitative Analyst - Boston, MA 02116\\nQuant...  \n",
       "1     Data Scientist - Mountain View, CA\\nGroundTrut...  \n",
       "2     Data Scientist - Seattle, WA\\nA Bachelor or Ma...  \n",
       "3     Senior Natural Language Processing (NLP) Engin...  \n",
       "4     FLEXO FOLDER GLUER OPER - McClellan, CA - McCl...  \n",
       "...                                                 ...  \n",
       "1332  Data Scientist - Birmingham, AL 35233\\nSUMMARY...  \n",
       "1333  Senior Data Scientist - Tempe, AZ\\nCircle K is...  \n",
       "1334  New College Grad - Cybersecurity (Masters Degr...  \n",
       "1335  Decision Science Manager, Media Mix Modeling -...  \n",
       "1336  Data Scientist - Bellevue, WA\\nExperienced in ...  \n",
       "\n",
       "[1337 rows x 4 columns]"
      ]
     },
     "execution_count": 23,
     "metadata": {},
     "output_type": "execute_result"
    }
   ],
   "source": [
    "df = pd.DataFrame(rows,columns=['file', 'title', 'h1', 'body'])\n",
    "df"
   ]
  },
  {
   "cell_type": "code",
   "execution_count": 28,
   "metadata": {},
   "outputs": [
    {
     "data": {
      "text/plain": [
       "pandas.core.series.Series"
      ]
     },
     "execution_count": 28,
     "metadata": {},
     "output_type": "execute_result"
    }
   ],
   "source": [
    "type(df[:].body)"
   ]
  },
  {
   "cell_type": "code",
   "execution_count": 35,
   "metadata": {},
   "outputs": [
    {
     "name": "stdout",
     "output_type": "stream",
     "text": [
      "['Quantitative Analyst - Boston, MA 02116\\nQuantitative Analyst (State Street Bank and Trust Company; Boston, MA): The Quantitative Analyst will be part of State Street Treasury’s Treasury Quantitative Analytics (TQA) group. TQA is responsible for developing/implementing/monitoring advanced financial models that are used in company’s capital management, liquidity management, investment portfolio construction, and balance sheet optimization. The group is accountable for in-depth understanding, modeling, and representation of the complex interaction of global markets, customer behaviors, and regulatory oversights to create a view of risk/revenue opportunities and exposures to the investment committee, Board of Directors, senior management, and regulatory agencies. The Quantitative Analyst role is a key contributor to the realization of the GT’s mission of optimizing net interest income within the desired risk appetite position. Specific responsibilities include: apply advanced statistical techniques to analyze the characteristics of the bank’s liabilities (including deposit balance forecast, deposit attrition rate and deposit pricing), using time-series analysis, survival analysis, and non-parametric regressions; experience with machine learning techniques such as principal component analysis, regression trees, and non-linear models; conduct in-depth quantitative analysis on how macroeconomic changes impact the bank’s balance sheet positions and understand the interest rate risks of the bank in different economic cycles; apply solid knowledge of CCAR, DFAST, and Basel regulations and developed stress testing models to quantify capital and liquidity risks; create and maintain model documentation that meets corporate model risk standards including model development and implementation papers; ensure proper ongoing monitoring of model performance including back-testing and performance reviews; and work closely with key business partners and senior management to understand the business needs and conditions and determine the analytical tools and data needed; serve as the subject matter experts on product analysis and modeling with regulatory agencies and internal oversight functions.\\nMinimum requirements: Master’s degree in Econometrics, Mathematics, Statistics, or a related quantitative field plus 2 years of quantitative modeling experience including at least one year in a large, complex financial institution with a broad exposure to all lines of businesses of a custodial bank.\\nMust have: demonstrated experience modeling complex financial concepts using non-linear, error correction, survival, and time-series models, Monte Carlo simulations and unsupervised and supervised machine learning, and other advanced quantitative techniques; proven knowledge of liquidity and capital stress testing, CCAR, and deposit modeling experience required; proven solid ability working with large and complex data sets including relational databases and complex queries using both SQL Server and My SQL; demonstrated proficiency in R/SAS/Matlab coding and working knowledge of Excel VBA, Eviews, python, and Cloudera Data Science Workbench; deep and broad understanding of all kinds of financial instruments like loans and deposits, as well as derivatives like options and futures; CFA candidates desired; demonstrated strong written and verbal communication skills and ability to present material to various audiences including upper management and regulators; and proven ability to take initiative, adapt and learn quickly, and be a self-starter. (Unless otherwise indicated, State Street is seeking the ability in the skills listed above with no specific amount of experience required. All experience can be gained concurrently).\\nA pply online at statestreet.com/careers . State Street Job ID: R-620670 . An EOE.\\n“#LI-DNI”'\n",
      " \"Data Scientist - Mountain View, CA\\nGroundTruth is the leading global location platform that leverages data and insights to drive business performance. Using its proprietary Blueprints technology, GroundTruth is able to learn about mobile users and reach them at the right place and right time, ultimately helping companies make smarter marketing decisions, increase sales, and grow their businesses. Since its foundation in 2009, GroundTruth has launched several innovative products and won numerous awards, including Inc. 5000’s Fast Growing Private Companies and Deloitte's Fast 500 Technology companies. Today, we're proud to employ over 400 employees across three continents and serve millions of marketers across 21 countries. Learn more: www.groundtruth.com\\n\\nYou will:\\nHelp senior members of the team to explore, develop, productionize and optimize machine learning algorithms and pipelines.\\nUse Hadoop, Spark and Amazon Athena on a daily basis to explore our petabytes of data.\\nDive deep into our rich set of location data, derive insights and build product prototypes.\\nCollaborate with peer data scientists, engineers and product managers closely.\\n You have:\\nMaster degree in Computer Science, Statistics, Mathematics, Engineering; PhD is a plus.\\nHas experience in Statistics, Machine Learning.\\nFluency in Python.\\nSignificant experience with SQL; some relational databases or NoSQL data stores.\\nFamiliarity with open source machine learning libraries such as scikit-learn and Spark MLlib.\\nHas experience in Amazon Web Services is a plus.\\nExcellent communication skills.\\n We operate in a fast paced, dynamic environment where everyone on the team is committed to the success and growth of GroundTruth. Our culture is highly entrepreneurial and our success comes from our employees who voice their opinions and ideas to facilitate growth to our bottom line. We reward hard work, support career development, offer comprehensive benefits, and foster a fun and friendly work environment.\\nWe are an equal opportunity employer and value diversity at our company. We do not discriminate on the basis of race, religion, color, national origin, gender, sexual orientation, age, marital status, veteran status, or disability status.\"\n",
      " \"Data Scientist - Seattle, WA\\nA Bachelor or Masters Degree in a highly quantitative field (Computer Science, Machine Learning, Operational Research, Statistics, Mathematics, etc.) or equivalent experiencePrevious experience in a research science, ML, or data scientist role and a track record of strong statistical analysis and building ML or DL modelsStrong background and experience using Python and/or RExperience using ML libraries, such as scikit-learn, caret, mlr, mllibExperienced in using multiple statistical/data science methodologies to solve complex business problems.Experienced in handling large data sets using SQL and databases in a business environment.Excellent verbal and written communication. Strong ability to interact, communicate, present, and influence within multiple levels of the organizationStrong troubleshooting and problem solving skills.\\n\\nDo you have the passion to drive performance of a business through creative analytical insight? Are you excited about Human Resources and bringing science to the art of managing and developing an extremely talented workforce? We are looking for a passionate, insightful, results-oriented Data Scientist to join a team chartered with building Human Resources Analytics for all of Devices & Services. From statistical analysis, predictive analytics, product building for research and advanced analytics, reporting designed to scale, and requirements gathering, we do it. All with an aim to more effectively develop our most valuable of all resources – our people.\\n\\nResponsibilities:\\nCollaborate with HR, business leaders, and peer researchers on innovative hypothesis-driven research projects and a corresponding analytics roadmap to inform business actions.Collaborate with other Devices data scientists and research scientists to build measurement plans/scalable research studies for assessing the impact of treatment/interventions on critical business KPI’s and people related metrics.Design, develop and evaluate models for prediction and forecasting purposesEstablish scalable, efficient, automated, and easily repeated processes for large scale data analyses for the broader Amazon Devices org.Integrate statistical analysis and prediction into current reporting dashboards in R ShinyProvide ad-hoc or special project statistical analysis to HR and business leaders that enable them to achieve their goals, drive decision making and create new strategies where necessaryGather, manage, and evaluate large datasets from multiple sourcesBuild and maintain strong partnerships across HR and the business\\nMaster's degree in Statistics, Applied Math, Operations Research, Economics, or a related quantitative field with at least 2 years of working experience as a Data or Research Scientist.Experienced in writing academic-styled papers for presenting both the methodologies used and results for data science projects.\"\n",
      " ...\n",
      " 'New College Grad - Cybersecurity (Masters Degree) - Multiple Locations - Foster City, CA\\nJob Description\\n\\nData breaches and identity theft pose an existential threat to our business, and in today’s hyper-connected world, that threat is escalating. The growth of digital, mobile and Internet of Things (IoT) is bringing payments to millions of new connected devices—and millions of new potential entry points for cybercriminals. Today’s criminals are relentless in their attempts to exploit vulnerabilities with increasingly sophisticated malware, social engineering, and brute force attacks. To protect Visa’s assets in this dynamic threat landscape, we’re deploying new cyber-security tools, collaborating across industries, and taking a proactive approach to monitoring the cyberspace beyond the Visa network.\\nWe have matured from a compliance-driven organization to an agile one that can actively defend against threats and proactively manage risk for the enterprise. To maintain our impressive track record of zero breaches to the Visa network, we must stay vigilant in tracking our adversaries and evolving our approach to thwart new and emerging attack vectors.\\n\\nTeams Actively Hiring within Cybersecurity\\nSecurity Architecture and Engineering\\nDefines and attests security architecture and standards for all Technology solutions, infrastructure, and applications. Also engineers security solutions and services to reduce attack surface in Visa’s products and infrastructure.\\nIdentity and Access Management (IAM)\\nIAM is the security and business discipline that enables the right user to access the right resources at the right time and for the right reasons. Key IAM functions include access requests, user on-boarding, off-boarding, transfers, user access re-certification; privileged access management, single-sign-on, multi-factor authentication, and role based access control. IAM strives to set the correct balance between convenience/user-experience and compliance/enterprise risk reduction.\\nCyber Defense\\nFocuses on delivery of 24x7x365 days security monitoring, incident response and investigations, and threat intelligence capabilities for Visa. We have adopted an intelligence-driven defense and response to cyberattacks of consequence. We have enhanced several key functions including Database Activity Monitoring, File Integrity Monitoring, and Distributed Denial-of-service (DDoS) protection across all critical applications and implemented a Next-Generation Firewall Platform.\\nCyber Engineering\\nEnables cyber innovation by the rapid design, creation, and deployment of technologies and processes that will provide a level of confidence and protection to our stakeholders and partners.\\n\\nGovernance Risk and Compliance\\nEvolve and strengthen our dynamic risk and compliance framework to enable Visa and our partners’ to meet regulatory requirements and achieve business and strategic objectives. Drive achievement of Cybersecurity objectives through management of internal and external security risks, monitoring assurance against required remediation deadlines, support in internal and external compliance reviews internal assessments of cyber security risk posture, operational and executive reports to stakeholders.\\n\\nQualifications\\n\\nBasic Qualifications\\nAdvanced Degree (e.g. Masters, MBA, JD, MD, or PhD)\\nMinimum GPA of 3.0 out of 4.0 (or equivalent scale)\\nPreferred Qualifications\\nMasters degree in Cybersecurity, CS, Engineering, Networking, Information Systems, or related technical degree, graduation date between December 2018 - September 2020\\nExposure and hands on experience in one of following areas, but not limited to:\\nApplication Security:\\nSupporting software development / QA specially web services, security tools etc.\\nTech skills: Burp Suite, IDA pro, APKTool, Hopper, HP Fortify, CheckMarx (Sast/Dast), Cycript, XPosed, Charles, dex2jar, Kali Linux, Wireshark or any mobile security and/or penetration testing tools or frameworks.\\nDevelopment:\\nSOAP / REST API, Web Services\\nDevelopment tools such as Maven, Jenkins and Git\\nDifferent programming and scripting languages, such as Python, JavaScript, C++, Java or others.\\nMachine Learning - Security Engineering:\\nSoftware Development, Programming, and debugging using various programming languages and frameworks (object oriented programming, Golang, Python, Java, and C++, JavaScript);\\nApplying Machine Learning/Artificial Intelligence, data science, and statistics concepts including API integration, python, authentication, analysis, modeling, and visualization (python, sci-kit, numpy, matlab, algorithms)\\nCybersecurity Analytics:\\nStatistical and machine learning models\\nExceptional coding skills and experience with high-level programming language like Scala, Python, Java for data analysis.\\nExperience with tools for statistical computing (e.g. tensorflow, NumPy, SciPy).\\nIdentity Access Management (IAM):\\nIdentity Management solutions like Oracle Identity Manager, Sailpoint or similar tools\\nIAM products related to Authentication, provisioning, authorization, SSO, and/or enterprise security protocols like SAML, OpenID, OAuth and/or mobile development (iOS/Android)\\nBusiness intelligence and analytics packages (Tableau, etc.), databases (SQL, etc.), scripting (PowerShell, VBScript, JavaScript) and programming (C#, Java, ETL frameworks)\\nData Protection:\\nSecurity technologies including data encryption, intrusion detection/prevention, event correlation, secure application development, etc.\\nSecurity controls provided in common platforms and applications in the corporate environment including Unix, Linux, Windows, IBM Mainframe (zTPF, MVS), Oracle, MS SQL Server Microsoft Outlook, J2EE and .NET applications, etc.\\nPlatform System Admin:\\nLinux and/or Windows\\nAdministering, troubleshooting, and optimizing WebLogic\\nCode deployments into a Linux/WebLogic environment\\nApplied Cryptography:\\nEncryption and key management security practices.\\nHost Security Modules (HSM) administration practices and capabilities. (Desired)\\nCISM or CISA, ITIL, CRISC.\\nCyber Defense and Incident Response:\\nCyber Security Operations, Incident Response processes\\nPython and/or PowerShell scripting, YARA, RegEx and PCRE\\nGovernance Risk and Compliance:\\nCurrent information security and compliance vendor landscape\\nControl frameworks such as NIST-800-53, Center of Internet Security, ISO/IEC 27002\\nRegulatory requirements in particular PCI-DSS, GLBA, FFIEC, SOX, GDPR\\nAdditional Information\\n\\nWork Hours:\\nThis position requires the incumbent to be available during core business hours.\\nTravel Requirements:\\nThis position requires the incumbent to travel for work less than 10% of the time.\\nPhysical Requirements:\\nThis position will be performed in an office setting. The position will require the incumbent to sit and stand at a desk, communicate in person and by telephone, frequently operate standard office equipment, such as telephones and computers, and reach with hands and arms.\\nVisa is an EEO Employer. Qualified applicants will receive consideration for employment without regard to race, color, religion, sex, national origin, sexual orientation, gender identity, disability or protected veteran status. Visa will also consider for employment qualified applicants with criminal histories in a manner consistent with EEOC guidelines and applicable local law.'\n",
      " \"Decision Science Manager, Media Mix Modeling - Menlo Park, CA\\nFacebook's mission is to give people the power to build community and bring the world closer together. Through our family of apps and services, we're building a different kind of company that connects billions of people around the world, gives them ways to share what matters most to them, and helps bring people closer together. Whether we're creating new products or helping a small business expand its reach, people at Facebook are builders at heart. Our global teams are constantly iterating, solving problems, and working together to empower people around the world to build community and connect in meaningful ways. Together, we can help people build stronger communities — we're just getting started.\\nThe Consumer Marketing team focuses on building Facebook brand presence, improving user sentiment and product education. We are looking for a Decision Science Manager, Media Mix Modeling on our team. This person will lead our Media mix and attribution efforts and work with members of our Decision Science and Operations teams to improve our marketing efficiency and effectiveness. Key goal for this person will be to apply modeling techniques relevant to media mix modeling optimization and multi-touch attribution to our marketing efforts to connect the impact of marketing activities on business outcomes. This person will also manage a small team of Decision Scientists on projects related to understand marketing performance and ROI. The ideal candidate will have extensive graduate training in economics and econometrics, and will answer important product and business questions by applying appropriate econometric methodologies and developing new methodologies when necessary. Our ideal candidate will also have tremendous passion for building strong brands and understanding user sentiments.\\nRESPONSIBILITIES\\nAs a Decision Science Manager for media mix modeling and marketing attribution, build and enhance market level media mix models to connect the impact of marketing tactics on business and financial outcomes in the short and long term\\nApply the output of media mix models to improve user perception and engagement with sustainable ROI by optimizing spend across various channels\\nMore specifically, apply algorithms such as random forests, Bayesian models, generalized boosted models, generalized additive models, support vector machines, neural networks, time-series forecasting, game theory, or conditional probabilities, develop algorithms for classification tasks such as clustering, latent class analysis, etc.\\nImplement modeling processes from end-to-end including data gathering, data profiling, numerical model building, calibration, cross-validation, and boosting model accuracy. Interpret and validate model results with statistical validity checks, and design data visualization reports to track model performance and business impact\\nCollect, process and validate data from internal and external data sources. Build and/or utilize toolsets and set up processes for extracting information from unstructured data streams\\nWork with data engineers to automate input ETL, handle missing data through an algorithmic approach such as multiple imputations to enable insights in sparse and messy datasets\\nRun optimization and simulation scenarios to help provide the marketing investment and allocation recommendations to Operations and Finance teams, Marketing leadership and CMO\\nProvide insights to marketing leadership on cost to acquire users, value of digital engagement, and cross-channel impact of media\\nExplain complex modeling approaches in simple terms and develop compelling narratives that connect modeling results with business problems\\nPartner with other Decision Scientists to validate and fine tune the model with experimentation\\nManage a small team of decision scientists on projects related to understanding marketing performance and ROI\\nWe expect this candidate to spend 70% or more time on hands-on work related to building media mix models and 30% or less time on managing Decision Scientists on the team\\nMINIMUM QUALIFICATIONS\\n3+ years of hands-on experience with programming marketing mix modeling solutions\\nKnowledge with predictive modeling techniques and experience in media mix and predictive modeling initiatives\\n6+ years of experience in analytics or data science teams\\n3+ years experience managing a team of data scientists\\nKnowledge of hierarchical Bayesian, MCMC, random forests, generalized boosted models, generalized additive models, support vector machines, neural networks, time-series forecasting, ANOVA, multiple regression, principal component analysis, decision trees, clustering and other similar approaches\\nExperience programming in SQL and R or Python\\nExperience coding and maintaining predictive algorithms\\nExperience developing measurement across marketing activities, including TV, print, radio, OOH, SEM, display, online video, owned media, sponsorships and promotions\\nKnowledge with media data vendors (e.g. IRI, Kantar, Nielsen, etc.) and digital audience data (e.g. DMPs)\\nCommunication and experience influencing others to achieve buy-in for recommendations\\nPREFERRED QUALIFICATIONS\\nMaster's or Doctorate degree in statistics, economics, behavioral/social science, psychology, Engineering or a related quantitative field\\nFacebook is committed to providing reasonable accommodations for qualified individuals with disabilities and disabled veterans in our job application procedures. If you need assistance or an accommodation due to a disability, you may contact us at accommodations-ext@fb.com.\"\n",
      " 'Data Scientist - Bellevue, WA\\nExperienced in handling large data sets using SQL and databases in a business environmentOutstanding written and verbal communication skillsProficiency with data analysis and modeling software (R, Spark, etc)Proficient with using scripting language such as Python and data manipulation/analysis libraries such as Scikit-learn and Pandas for analyzing and modeling data.2+ years of applying algorithm design/multivariate statistics/machine learning to solving real-world problemsMS in a quantitative research discipline (e.g., Artificial Intelligence, Computer Science, Machine Learning, Statistics, Applied Math, Operations Research)\\n\\nAmazon aims to exceed the expectations of our customers by ensuring that their orders, no matter how large or small, are delivered as quickly, accurately, and cost effectively as possible. To meet this goal, Amazon has invested in Amazon Logistics, a world class last mile operation. We are looking for a dynamic, resourceful, and organized Data Scientist within Amazon Logistics’ Amazon Flex organization to develop the right data-driven solutions to support the most critical components of this rapidly scaling operation.\\n\\nAs part of the Last Mile Science & Technology organization, you’ll partner closely with Science, Product and Program teams to design of new and innovative solutions to organizational and business problems, using statistical best practices to justify design decisions using data. You will be expected to be a subject matter expert in quantitative analysis and to communicate highly complex findings to multiple audiences. You may come from one of many different types of quantitative backgrounds, but you must be comfortable with multiple modeling techniques such as linear and logistic regression, supervised and unsupervised clustering and segmentation, and forecasting. You will be able to acquire new techniques with practice, and be willing to show flexibility in finding the right technique to match the research problem.\\n\\nIn addition to designing meaningful research questions and analyzing the resulting data, you must be able to see a full loop vision that goes beyond experimentation to conceptualizing design solutions, collaborating closely with multiple teams to ensure the relevance and impact of your work to business stakeholders. You will be responsible for developing new predictive and optimization models, as well as algorithms for key applications and discovering new ways to solve organizational problems. Successful candidates will have a deep knowledge of quantitative modelling in at least one area (ML, optimization, multivariate statistics), the ability to build and refine prototype models that can be implemented in production, the communication skills necessary to explain complex technical approaches to a variety of stakeholders and customers, and the excitement to take iterative approaches to tackle big, long-term problems.\\n\\nKey Responsibilities:\\n\\nConceptualize and lead global research initiativesGuide the technical approach for the design and implementation of successful models and algorithms in support of expert cross-functional teams delivering on demanding projects.Functionally decompose complex problems into simple, straight-forward solutions.Share deep knowledge in statistics, machine learning, multivariate modeling, or optimization research applicable to our problem space.\\nAbility to work independently and as part of a diverse teamExcellent interpersonal skills and a never-give-up attitudeProven record of innovation and strategic impact across teams5+ years handling big data']\n"
     ]
    }
   ],
   "source": [
    "print(df[:].body.values)"
   ]
  },
  {
   "cell_type": "code",
   "execution_count": null,
   "metadata": {},
   "outputs": [],
   "source": []
  }
 ],
 "metadata": {
  "kernelspec": {
   "display_name": "Python 3",
   "language": "python",
   "name": "python3"
  },
  "language_info": {
   "codemirror_mode": {
    "name": "ipython",
    "version": 3
   },
   "file_extension": ".py",
   "mimetype": "text/x-python",
   "name": "python",
   "nbconvert_exporter": "python",
   "pygments_lexer": "ipython3",
   "version": "3.7.6"
  }
 },
 "nbformat": 4,
 "nbformat_minor": 4
}
